{
 "cells": [
  {
   "cell_type": "code",
   "execution_count": 2,
   "id": "189ee522-39aa-4abd-b408-41c02b58c65c",
   "metadata": {},
   "outputs": [],
   "source": [
    "import pandas as pd"
   ]
  },
  {
   "cell_type": "code",
   "execution_count": 3,
   "id": "a03fcaf6-3b85-4a59-bbbf-65ef0305bcdc",
   "metadata": {},
   "outputs": [
    {
     "name": "stdout",
     "output_type": "stream",
     "text": [
      "<class 'pandas.core.frame.DataFrame'>\n",
      "RangeIndex: 99441 entries, 0 to 99440\n",
      "Data columns (total 8 columns):\n",
      " #   Column                         Non-Null Count  Dtype         \n",
      "---  ------                         --------------  -----         \n",
      " 0   order_id                       99441 non-null  object        \n",
      " 1   customer_id                    99441 non-null  object        \n",
      " 2   order_status                   99441 non-null  object        \n",
      " 3   order_purchase_timestamp       99441 non-null  datetime64[ns]\n",
      " 4   order_approved_at              99281 non-null  datetime64[ns]\n",
      " 5   order_delivered_carrier_date   97658 non-null  datetime64[ns]\n",
      " 6   order_delivered_customer_date  96476 non-null  datetime64[ns]\n",
      " 7   order_estimated_delivery_date  99441 non-null  datetime64[ns]\n",
      "dtypes: datetime64[ns](5), object(3)\n",
      "memory usage: 6.1+ MB\n"
     ]
    },
    {
     "data": {
      "text/html": [
       "<div>\n",
       "<style scoped>\n",
       "    .dataframe tbody tr th:only-of-type {\n",
       "        vertical-align: middle;\n",
       "    }\n",
       "\n",
       "    .dataframe tbody tr th {\n",
       "        vertical-align: top;\n",
       "    }\n",
       "\n",
       "    .dataframe thead th {\n",
       "        text-align: right;\n",
       "    }\n",
       "</style>\n",
       "<table border=\"1\" class=\"dataframe\">\n",
       "  <thead>\n",
       "    <tr style=\"text-align: right;\">\n",
       "      <th></th>\n",
       "      <th>order_id</th>\n",
       "      <th>customer_id</th>\n",
       "      <th>order_status</th>\n",
       "      <th>order_purchase_timestamp</th>\n",
       "      <th>order_approved_at</th>\n",
       "      <th>order_delivered_carrier_date</th>\n",
       "      <th>order_delivered_customer_date</th>\n",
       "      <th>order_estimated_delivery_date</th>\n",
       "    </tr>\n",
       "  </thead>\n",
       "  <tbody>\n",
       "    <tr>\n",
       "      <th>0</th>\n",
       "      <td>e481f51cbdc54678b7cc49136f2d6af7</td>\n",
       "      <td>9ef432eb6251297304e76186b10a928d</td>\n",
       "      <td>delivered</td>\n",
       "      <td>2017-10-02 10:56:33</td>\n",
       "      <td>2017-10-02 11:07:15</td>\n",
       "      <td>2017-10-04 19:55:00</td>\n",
       "      <td>2017-10-10 21:25:13</td>\n",
       "      <td>2017-10-18</td>\n",
       "    </tr>\n",
       "    <tr>\n",
       "      <th>1</th>\n",
       "      <td>53cdb2fc8bc7dce0b6741e2150273451</td>\n",
       "      <td>b0830fb4747a6c6d20dea0b8c802d7ef</td>\n",
       "      <td>delivered</td>\n",
       "      <td>2018-07-24 20:41:37</td>\n",
       "      <td>2018-07-26 03:24:27</td>\n",
       "      <td>2018-07-26 14:31:00</td>\n",
       "      <td>2018-08-07 15:27:45</td>\n",
       "      <td>2018-08-13</td>\n",
       "    </tr>\n",
       "    <tr>\n",
       "      <th>2</th>\n",
       "      <td>47770eb9100c2d0c44946d9cf07ec65d</td>\n",
       "      <td>41ce2a54c0b03bf3443c3d931a367089</td>\n",
       "      <td>delivered</td>\n",
       "      <td>2018-08-08 08:38:49</td>\n",
       "      <td>2018-08-08 08:55:23</td>\n",
       "      <td>2018-08-08 13:50:00</td>\n",
       "      <td>2018-08-17 18:06:29</td>\n",
       "      <td>2018-09-04</td>\n",
       "    </tr>\n",
       "  </tbody>\n",
       "</table>\n",
       "</div>"
      ],
      "text/plain": [
       "                           order_id                       customer_id  \\\n",
       "0  e481f51cbdc54678b7cc49136f2d6af7  9ef432eb6251297304e76186b10a928d   \n",
       "1  53cdb2fc8bc7dce0b6741e2150273451  b0830fb4747a6c6d20dea0b8c802d7ef   \n",
       "2  47770eb9100c2d0c44946d9cf07ec65d  41ce2a54c0b03bf3443c3d931a367089   \n",
       "\n",
       "  order_status order_purchase_timestamp   order_approved_at  \\\n",
       "0    delivered      2017-10-02 10:56:33 2017-10-02 11:07:15   \n",
       "1    delivered      2018-07-24 20:41:37 2018-07-26 03:24:27   \n",
       "2    delivered      2018-08-08 08:38:49 2018-08-08 08:55:23   \n",
       "\n",
       "  order_delivered_carrier_date order_delivered_customer_date  \\\n",
       "0          2017-10-04 19:55:00           2017-10-10 21:25:13   \n",
       "1          2018-07-26 14:31:00           2018-08-07 15:27:45   \n",
       "2          2018-08-08 13:50:00           2018-08-17 18:06:29   \n",
       "\n",
       "  order_estimated_delivery_date  \n",
       "0                    2017-10-18  \n",
       "1                    2018-08-13  \n",
       "2                    2018-09-04  "
      ]
     },
     "execution_count": 3,
     "metadata": {},
     "output_type": "execute_result"
    }
   ],
   "source": [
    "df = pd.read_csv(\"../data/olist_orders_dataset.csv\", parse_dates=[\"order_purchase_timestamp\",\n",
    "                                                                  \"order_approved_at\",\n",
    "                                                                  \"order_delivered_carrier_date\",\n",
    "                                                                  \"order_delivered_customer_date\",\n",
    "                                                                  \"order_estimated_delivery_date\"\n",
    "                                                                 ]).dropna(how=\"all\")\n",
    "df.info()\n",
    "df.head(3)"
   ]
  },
  {
   "cell_type": "code",
   "execution_count": 3,
   "id": "60e7e8a9-6085-47c5-9a95-602ad63145f5",
   "metadata": {},
   "outputs": [
    {
     "name": "stdout",
     "output_type": "stream",
     "text": [
      "['delivered' 'invoiced' 'shipped' 'processing' 'unavailable' 'canceled'\n",
      " 'created' 'approved']\n"
     ]
    }
   ],
   "source": [
    "print(df.order_status.unique())"
   ]
  },
  {
   "cell_type": "code",
   "execution_count": 4,
   "id": "08797ea8-6047-4379-a789-b91f884a35f1",
   "metadata": {},
   "outputs": [
    {
     "data": {
      "text/plain": [
       "order_status\n",
       "delivered      96478\n",
       "shipped         1107\n",
       "canceled         625\n",
       "unavailable      609\n",
       "invoiced         314\n",
       "processing       301\n",
       "created            5\n",
       "approved           2\n",
       "Name: count, dtype: int64"
      ]
     },
     "execution_count": 4,
     "metadata": {},
     "output_type": "execute_result"
    }
   ],
   "source": [
    "df.order_status.value_counts()"
   ]
  },
  {
   "cell_type": "code",
   "execution_count": 5,
   "id": "4255a389-b15b-4f94-b4dd-981b9acec4b9",
   "metadata": {},
   "outputs": [
    {
     "data": {
      "text/plain": [
       "order_status\n",
       "delivered      97.020344\n",
       "shipped         1.113223\n",
       "canceled        0.628513\n",
       "unavailable     0.612423\n",
       "invoiced        0.315765\n",
       "processing      0.302692\n",
       "created         0.005028\n",
       "approved        0.002011\n",
       "Name: proportion, dtype: float64"
      ]
     },
     "execution_count": 5,
     "metadata": {},
     "output_type": "execute_result"
    }
   ],
   "source": [
    "df.order_status.value_counts(normalize=True) * 100"
   ]
  },
  {
   "cell_type": "code",
   "execution_count": 21,
   "id": "b1286f89-1fdb-46d0-b969-ffe21a17ca09",
   "metadata": {},
   "outputs": [
    {
     "name": "stdout",
     "output_type": "stream",
     "text": [
      "Delivered: 96478 - 97.02%\n",
      "Canceled: 625 - 0.63%\n"
     ]
    }
   ],
   "source": [
    "#Poměr doručených a zrušených objednávek\n",
    "\n",
    "total_count = len(df)\n",
    "delivered_count = (df.order_status == \"delivered\").sum()\n",
    "canceled_count = (df.order_status == \"canceled\").sum()\n",
    "\n",
    "delivered_pct = (delivered_count / total_count) * 100\n",
    "canceled_pct = (canceled_count / total_count) * 100\n",
    "\n",
    "print(f\"Delivered: {delivered_count} - {delivered_pct:.2f}%\")\n",
    "print(f\"Canceled: {canceled_count} - {canceled_pct:.2f}%\")"
   ]
  },
  {
   "cell_type": "code",
   "execution_count": 23,
   "id": "1c6fe656-3a74-4e4e-847d-ede16dcc4fe8",
   "metadata": {},
   "outputs": [
    {
     "name": "stdout",
     "output_type": "stream",
     "text": [
      "Data range: 2016-09-04 -> 2018-10-17\n"
     ]
    }
   ],
   "source": [
    "#Časový rozsah\n",
    "\n",
    "min_date = df.order_purchase_timestamp.min()\n",
    "max_date = df.order_purchase_timestamp.max()\n",
    "\n",
    "print(f\"Data range: {min_date.date()} -> {max_date.date()}\")"
   ]
  },
  {
   "cell_type": "code",
   "execution_count": 58,
   "id": "995dd10a-6bb6-4c28-97d5-9526350931c8",
   "metadata": {},
   "outputs": [
    {
     "name": "stdout",
     "output_type": "stream",
     "text": [
      "Average delivery time: 12.1 days\n",
      "Median delivery time: 10.0 days\n"
     ]
    }
   ],
   "source": [
    "#Průměrná doba doručení\n",
    "\n",
    "#pouze doručené objednávky\n",
    "delivered_df = df[(df.order_status == \"delivered\")&\n",
    "                  (df[\"order_delivered_customer_date\"].notna())\n",
    "].copy() \n",
    "\n",
    "#Rozdíl ve dnech\n",
    "delivered_df[\"delivery_time_days\"] = (delivered_df.order_delivered_customer_date - delivered_df.order_purchase_timestamp).dt.days.astype(int)\n",
    "\n",
    "avg_days = delivered_df[\"delivery_time_days\"].mean()\n",
    "median_days = delivered_df[\"delivery_time_days\"].median()\n",
    "\n",
    "print(f\"Average delivery time: {avg_days:.1f} days\")\n",
    "print(f\"Median delivery time: {median_days:.1f} days\")"
   ]
  }
 ],
 "metadata": {
  "kernelspec": {
   "display_name": "Python [conda env:base] *",
   "language": "python",
   "name": "conda-base-py"
  },
  "language_info": {
   "codemirror_mode": {
    "name": "ipython",
    "version": 3
   },
   "file_extension": ".py",
   "mimetype": "text/x-python",
   "name": "python",
   "nbconvert_exporter": "python",
   "pygments_lexer": "ipython3",
   "version": "3.13.5"
  }
 },
 "nbformat": 4,
 "nbformat_minor": 5
}
